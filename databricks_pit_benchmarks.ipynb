{
 "cells": [
  {
   "cell_type": "code",
   "execution_count": null,
   "metadata": {
    "application/vnd.databricks.v1+cell": {
     "cellMetadata": {
      "byteLimit": 2048000,
      "rowLimit": 10000
     },
     "inputWidgets": {},
     "nuid": "09f562f5-6e69-4d89-a289-42aea552f388",
     "showTitle": false,
     "title": ""
    }
   },
   "outputs": [],
   "source": [
    "%pip install databricks-feature-store"
   ]
  },
  {
   "cell_type": "code",
   "execution_count": null,
   "metadata": {
    "application/vnd.databricks.v1+cell": {
     "cellMetadata": {
      "byteLimit": 2048000,
      "rowLimit": 10000
     },
     "inputWidgets": {},
     "nuid": "990f4c53-af75-4928-876e-f27d09220475",
     "showTitle": false,
     "title": ""
    }
   },
   "outputs": [],
   "source": [
    "files = [\n",
    "    \"s3a://ayushman-hops/taxidata_cleaned/2011.parquet\", \n",
    "    \"s3a://ayushman-hops/taxidata_cleaned/2012.parquet\", \n",
    "    \"s3a://ayushman-hops/taxidata_cleaned/2013.parquet\",\n",
    "    \"s3a://ayushman-hops/taxidata_cleaned/2014.parquet\",\n",
    "    \"s3a://ayushman-hops/taxidata_cleaned/2015.parquet\",\n",
    "    \"s3a://ayushman-hops/taxidata_cleaned/2016.parquet\"\n",
    "]\n",
    "sf = 10000000\n",
    "raw_data = spark.read.parquet(*files).limit(sf)\n",
    "display(raw_data.count())\n",
    "display(raw_data)"
   ]
  },
  {
   "cell_type": "code",
   "execution_count": null,
   "metadata": {
    "application/vnd.databricks.v1+cell": {
     "cellMetadata": {
      "byteLimit": 2048000,
      "rowLimit": 10000
     },
     "inputWidgets": {},
     "nuid": "c57bb710-c4d2-44fd-bee1-612bc7a5b8c2",
     "showTitle": false,
     "title": ""
    }
   },
   "outputs": [],
   "source": [
    "from pyspark.sql.functions import *\n",
    "from pyspark.sql.types import FloatType, IntegerType, StringType\n",
    "from pytz import timezone\n",
    "import time\n",
    "\n",
    "\n",
    "@udf(returnType=IntegerType())\n",
    "def is_weekend(dt):\n",
    "    tz = \"America/New_York\"\n",
    "    return int(dt.astimezone(timezone(tz)).weekday() >= 5)  # 5 = Saturday, 6 = Sunday\n",
    "\n",
    "\n",
    "def filter_df_by_ts(df, ts_column, start_date, end_date):\n",
    "    if ts_column and start_date:\n",
    "        df = df.filter(col(ts_column) >= start_date)\n",
    "    if ts_column and end_date:\n",
    "        df = df.filter(col(ts_column) < end_date)\n",
    "    return df"
   ]
  },
  {
   "cell_type": "code",
   "execution_count": null,
   "metadata": {
    "application/vnd.databricks.v1+cell": {
     "cellMetadata": {
      "byteLimit": 2048000,
      "rowLimit": 10000
     },
     "inputWidgets": {},
     "nuid": "c07edf1e-7891-46d0-a15b-cdab573721ff",
     "showTitle": false,
     "title": ""
    }
   },
   "outputs": [],
   "source": [
    "from pyspark.sql.functions import col, floor, count, mean\n",
    "from pyspark.sql.window import Window\n",
    "\n",
    "def pickup_features_fn(df, ts_column, start_date, end_date):\n",
    "    df = filter_df_by_ts(df, ts_column, start_date, end_date)\n",
    "    df = df.withColumn('tpep_pickup_datetime', df['tpep_pickup_datetime'].cast('timestamp'))\n",
    "    df = df.withColumn('window', floor(df['tpep_pickup_datetime'].cast('long') / (15 * 60)).cast('timestamp'))\n",
    "    pickup_features = (\n",
    "        df.groupby('pu_location_id', 'pu_borough', 'window')\n",
    "        .agg(\n",
    "            mean('fare_amount').alias('mean_fare_window_1h_pickup_zip'),\n",
    "            count('fare_amount').alias('count_trips_window_1h_pickup_zip')\n",
    "        )\n",
    "        .withColumnRenamed('pu_location_id', 'location_id')\n",
    "        .withColumnRenamed('pu_borough', 'borough')\n",
    "        .withColumnRenamed('window', 'ts')\n",
    "    )\n",
    "    \n",
    "    return pickup_features\n",
    "\n",
    "def dropoff_features_fn(df, ts_column, start_date, end_date):\n",
    "    df = filter_df_by_ts(df, ts_column, start_date, end_date)\n",
    "    df = df.withColumn('tpep_dropoff_datetime', df['tpep_dropoff_datetime'].cast('timestamp'))\n",
    "    df = df.withColumn('window', floor(df['tpep_dropoff_datetime'].cast('long') / (30 * 60)).cast('timestamp'))\n",
    "    dropoff_features = (\n",
    "        df.groupby('do_location_id', 'do_borough', 'window')\n",
    "        .agg(count('do_borough').alias('count_trips_window_30m_dropoff_zip'))\n",
    "        .withColumnRenamed('do_location_id', 'location_id')\n",
    "        .withColumnRenamed('do_borough', 'borough')\n",
    "        .withColumnRenamed('window', 'ts')\n",
    "    )\n",
    "    dropoff_features = dropoff_features.withColumn('ts', dropoff_features['ts'].cast('timestamp'))\n",
    "    dropoff_features = dropoff_features.withColumn('dropoff_is_weekend', dayofweek(dropoff_features['ts']).isin([5, 6]))\n",
    "    \n",
    "    return dropoff_features\n"
   ]
  },
  {
   "cell_type": "code",
   "execution_count": null,
   "metadata": {
    "application/vnd.databricks.v1+cell": {
     "cellMetadata": {
      "byteLimit": 2048000,
      "rowLimit": 10000
     },
     "inputWidgets": {},
     "nuid": "4956d48f-2af3-41eb-a283-de1bfbd34127",
     "showTitle": false,
     "title": ""
    }
   },
   "outputs": [],
   "source": [
    "from datetime import datetime\n",
    "\n",
    "pickup_features = pickup_features_fn(\n",
    "    df=raw_data,\n",
    "    ts_column=\"tpep_pickup_datetime\",\n",
    "    start_date=datetime(2011, 1, 1),\n",
    "    end_date=datetime(2023, 1, 31),\n",
    ")\n",
    "dropoff_features = dropoff_features_fn(\n",
    "    df=raw_data,\n",
    "    ts_column=\"tpep_dropoff_datetime\",\n",
    "    start_date=datetime(2011, 1, 1),\n",
    "    end_date=datetime(2023, 1, 31),\n",
    ")"
   ]
  },
  {
   "cell_type": "code",
   "execution_count": null,
   "metadata": {
    "application/vnd.databricks.v1+cell": {
     "cellMetadata": {
      "byteLimit": 2048000,
      "rowLimit": 10000
     },
     "inputWidgets": {},
     "nuid": "d92f0ff1-6150-4097-857e-7056522e6d8b",
     "showTitle": false,
     "title": ""
    }
   },
   "outputs": [],
   "source": [
    "display(pickup_features.head(5))\n",
    "pickup_features.count()"
   ]
  },
  {
   "cell_type": "code",
   "execution_count": null,
   "metadata": {
    "application/vnd.databricks.v1+cell": {
     "cellMetadata": {
      "byteLimit": 2048000,
      "rowLimit": 10000
     },
     "inputWidgets": {},
     "nuid": "c25373e4-cb6d-4b08-b042-9893b0b08206",
     "showTitle": false,
     "title": ""
    }
   },
   "outputs": [],
   "source": [
    "display(dropoff_features)\n",
    "dropoff_features.count()"
   ]
  },
  {
   "cell_type": "code",
   "execution_count": null,
   "metadata": {
    "application/vnd.databricks.v1+cell": {
     "cellMetadata": {
      "byteLimit": 2048000,
      "implicitDf": true,
      "rowLimit": 10000
     },
     "inputWidgets": {},
     "nuid": "c41a3be3-5167-4fc2-94fb-be4f9f018348",
     "showTitle": false,
     "title": ""
    }
   },
   "outputs": [],
   "source": [
    "%sql CREATE DATABASE IF NOT EXISTS feature_store_taxi_example;"
   ]
  },
  {
   "cell_type": "code",
   "execution_count": null,
   "metadata": {
    "application/vnd.databricks.v1+cell": {
     "cellMetadata": {
      "byteLimit": 2048000,
      "rowLimit": 10000
     },
     "inputWidgets": {},
     "nuid": "831b5164-adc0-4dd7-a4be-6109277ff4e8",
     "showTitle": false,
     "title": ""
    }
   },
   "outputs": [],
   "source": [
    "from databricks.feature_store import FeatureStoreClient\n",
    "fs = FeatureStoreClient()"
   ]
  },
  {
   "cell_type": "code",
   "execution_count": null,
   "metadata": {
    "application/vnd.databricks.v1+cell": {
     "cellMetadata": {
      "byteLimit": 2048000,
      "rowLimit": 10000
     },
     "inputWidgets": {},
     "nuid": "9501ac00-1cab-4924-a2b9-1422b6b2eb52",
     "showTitle": false,
     "title": ""
    }
   },
   "outputs": [],
   "source": [
    "# fs.drop_table(\"feature_store_taxi_example.trip_pickup_time_series_features\")\n",
    "# fs.drop_table(\"feature_store_taxi_example.trip_dropoff_time_series_features\")"
   ]
  },
  {
   "cell_type": "code",
   "execution_count": null,
   "metadata": {
    "application/vnd.databricks.v1+cell": {
     "cellMetadata": {
      "byteLimit": 2048000,
      "rowLimit": 10000
     },
     "inputWidgets": {},
     "nuid": "30262aca-dae1-4540-b920-d64e65af7ecb",
     "showTitle": false,
     "title": ""
    }
   },
   "outputs": [],
   "source": [
    "fs.create_table(\n",
    "    name=\"feature_store_taxi_example.trip_pickup_time_series_features\",\n",
    "    primary_keys=[\"location_id\"],\n",
    "    timestamp_keys=[\"ts\"],\n",
    "    df=pickup_features,\n",
    "    description=\"Taxi Fares. Pickup Time Series Features\",\n",
    ")\n",
    "fs.create_table(\n",
    "    name=\"feature_store_taxi_example.trip_dropoff_time_series_features\",\n",
    "    primary_keys=[\"location_id\"],\n",
    "    timestamp_keys=[\"ts\"],\n",
    "    df=dropoff_features,\n",
    "    description=\"Taxi Fares. Dropoff Time Series Features\",\n",
    ")"
   ]
  },
  {
   "cell_type": "code",
   "execution_count": null,
   "metadata": {
    "application/vnd.databricks.v1+cell": {
     "cellMetadata": {
      "byteLimit": 2048000,
      "rowLimit": 10000
     },
     "inputWidgets": {},
     "nuid": "647606cf-651c-467e-9553-b61e4a794500",
     "showTitle": false,
     "title": ""
    }
   },
   "outputs": [],
   "source": [
    "display(raw_data)"
   ]
  },
  {
   "cell_type": "code",
   "execution_count": null,
   "metadata": {
    "application/vnd.databricks.v1+cell": {
     "cellMetadata": {
      "byteLimit": 2048000,
      "rowLimit": 10000
     },
     "inputWidgets": {},
     "nuid": "f1b1e346-d577-49b6-a8ce-63bd4184ff9c",
     "showTitle": false,
     "title": ""
    }
   },
   "outputs": [],
   "source": [
    "raw_data.count()"
   ]
  },
  {
   "cell_type": "code",
   "execution_count": null,
   "metadata": {
    "application/vnd.databricks.v1+cell": {
     "cellMetadata": {
      "byteLimit": 2048000,
      "rowLimit": 10000
     },
     "inputWidgets": {},
     "nuid": "41e07a79-fd72-4f3c-a019-24a5bada1c32",
     "showTitle": false,
     "title": ""
    }
   },
   "outputs": [],
   "source": [
    "from databricks.feature_store import FeatureLookup\n",
    "\n",
    "pickup_features_table = \"fs_taxidata.pit_pickup_features\"\n",
    "dropoff_features_table = \"fs_taxidata.pit_dropoff_features\"\n",
    "\n",
    "pickup_feature_lookups = [\n",
    "    FeatureLookup(\n",
    "        table_name=pickup_features_table,\n",
    "        feature_names=[\n",
    "            \"mean_fare_window_1h_pickup_zip\",\n",
    "            \"count_trips_window_1h_pickup_zip\",\n",
    "        ],\n",
    "        lookup_key=[\"pu_location_id\"],\n",
    "        timestamp_lookup_key=\"tpep_pickup_datetime\",\n",
    "    ),\n",
    "]\n",
    "\n",
    "dropoff_feature_lookups = [\n",
    "    FeatureLookup(\n",
    "        table_name=dropoff_features_table,\n",
    "        feature_names=[\"count_trips_window_30m_dropoff_zip\", \"dropoff_is_weekend\"],\n",
    "        lookup_key=[\"do_location_id\"],\n",
    "        timestamp_lookup_key=\"tpep_dropoff_datetime\",\n",
    "    ),\n",
    "]"
   ]
  },
  {
   "cell_type": "code",
   "execution_count": null,
   "metadata": {
    "application/vnd.databricks.v1+cell": {
     "cellMetadata": {
      "byteLimit": 2048000,
      "rowLimit": 10000
     },
     "inputWidgets": {},
     "nuid": "23f2f5b4-129c-4646-b4a7-8d3b694385ce",
     "showTitle": false,
     "title": ""
    }
   },
   "outputs": [],
   "source": [
    "exclude_columns = [\"ts\"]"
   ]
  },
  {
   "attachments": {},
   "cell_type": "markdown",
   "metadata": {
    "application/vnd.databricks.v1+cell": {
     "cellMetadata": {
      "byteLimit": 2048000,
      "rowLimit": 10000
     },
     "inputWidgets": {},
     "nuid": "dad07506-477e-449c-a2fd-a0618178014a",
     "showTitle": false,
     "title": ""
    }
   },
   "source": [
    "# Benchmark PIT-correct Join to Parquet"
   ]
  },
  {
   "cell_type": "code",
   "execution_count": null,
   "metadata": {
    "application/vnd.databricks.v1+cell": {
     "cellMetadata": {
      "byteLimit": 2048000,
      "rowLimit": 10000
     },
     "inputWidgets": {},
     "nuid": "a2b39990-4858-46a6-9b57-c9ed97ad381b",
     "showTitle": false,
     "title": ""
    }
   },
   "outputs": [],
   "source": [
    "# Scale Factor is decided by size of raw_data dataframe\n",
    "\n",
    "import time\n",
    "start = time.time()\n",
    "# Create the training set that includes the raw input data merged with corresponding features from both feature tables\n",
    "training_set = fs.create_training_set(\n",
    "    raw_data,\n",
    "    feature_lookups=pickup_feature_lookups + dropoff_feature_lookups,\n",
    "    label=\"fare_amount\",\n",
    "    exclude_columns=exclude_columns,\n",
    ")\n",
    "\n",
    "# Load the TrainingSet into a dataframe which can be passed into sklearn for training a model\n",
    "training_df = training_set.load_df()\n",
    "training_df.write.mode(\"overwrite\").parquet(\"training\")\n",
    "print(f\"time: {time.time() - start}\")\n",
    "display(training_df.count())\n"
   ]
  },
  {
   "attachments": {},
   "cell_type": "markdown",
   "metadata": {
    "application/vnd.databricks.v1+cell": {
     "cellMetadata": {
      "byteLimit": 2048000,
      "rowLimit": 10000
     },
     "inputWidgets": {},
     "nuid": "9210c657-8453-453b-bb29-2b05484a93a1",
     "showTitle": false,
     "title": ""
    }
   },
   "source": [
    "# Benchmark PIT-correct Join to Memory"
   ]
  },
  {
   "cell_type": "code",
   "execution_count": null,
   "metadata": {
    "application/vnd.databricks.v1+cell": {
     "cellMetadata": {
      "byteLimit": 2048000,
      "rowLimit": 10000
     },
     "inputWidgets": {},
     "nuid": "1db62744-9f85-4a7b-93b2-5b4b7c1e9141",
     "showTitle": false,
     "title": ""
    }
   },
   "outputs": [],
   "source": [
    "# Scale Factor is decided by size of raw_data dataframe\n",
    "\n",
    "start = time.time()\n",
    "# Create the training set that includes the raw input data merged with corresponding features from both feature tables\n",
    "training_set_count = fs.create_training_set(\n",
    "    raw_data,\n",
    "    feature_lookups=pickup_feature_lookups + dropoff_feature_lookups,\n",
    "    label=\"fare_amount\",\n",
    "    exclude_columns=exclude_columns,\n",
    ")\n",
    "\n",
    "# Load the TrainingSet into a dataframe which can be passed into sklearn for training a model\n",
    "training_df = training_set_count.load_df()\n",
    "training_df.collect()\n",
    "pdf = training_df.toPandas()\n",
    "print(f\"time: {time.time() - start}\")"
   ]
  },
  {
   "cell_type": "code",
   "execution_count": null,
   "metadata": {
    "application/vnd.databricks.v1+cell": {
     "cellMetadata": {
      "byteLimit": 2048000,
      "rowLimit": 10000
     },
     "inputWidgets": {},
     "nuid": "743d410c-9c77-41b9-a401-9b2ab6cb8ab6",
     "showTitle": false,
     "title": ""
    }
   },
   "outputs": [],
   "source": [
    "display(pdf)"
   ]
  },
  {
   "cell_type": "code",
   "execution_count": null,
   "metadata": {
    "application/vnd.databricks.v1+cell": {
     "cellMetadata": {
      "byteLimit": 2048000,
      "rowLimit": 10000
     },
     "inputWidgets": {},
     "nuid": "3847a5f5-de0c-4d97-b835-9eeecac31a30",
     "showTitle": false,
     "title": ""
    }
   },
   "outputs": [],
   "source": []
  }
 ],
 "metadata": {
  "application/vnd.databricks.v1+notebook": {
   "dashboards": [],
   "language": "python",
   "notebookMetadata": {
    "mostRecentlyExecutedCommandWithImplicitDF": {
     "commandId": 26084642623731,
     "dataframes": [
      "_sqldf"
     ]
    },
    "pythonIndentUnit": 2
   },
   "notebookName": "databricks_fs_pit_benchmarks",
   "widgets": {}
  },
  "language_info": {
   "name": "python"
  }
 },
 "nbformat": 4,
 "nbformat_minor": 0
}
